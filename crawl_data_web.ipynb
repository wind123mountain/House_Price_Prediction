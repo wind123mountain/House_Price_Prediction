{
 "cells": [
  {
   "cell_type": "code",
   "execution_count": null,
   "metadata": {},
   "outputs": [],
   "source": [
    "import os\n",
    "\n",
    "path_dir = 'html/'\n",
    "os.mkdir(path_dir)"
   ]
  },
  {
   "cell_type": "code",
   "execution_count": null,
   "metadata": {},
   "outputs": [],
   "source": [
    "path = 'link_web/links_4_5600.txt'\n",
    "\n",
    "links = []\n",
    "with open(path, 'r') as f:\n",
    "    while link := f.readline():\n",
    "        links.append(link.strip())"
   ]
  },
  {
   "cell_type": "code",
   "execution_count": null,
   "metadata": {},
   "outputs": [],
   "source": [
    "f_temp = open('temp_link.txt', 'w')"
   ]
  },
  {
   "cell_type": "code",
   "execution_count": null,
   "metadata": {},
   "outputs": [],
   "source": [
    "from urllib.request import urlopen, Request\n",
    "\n",
    "for url in links:\n",
    "    try:\n",
    "        rep = Request(url, headers={'User-Agent': 'Mozilla/5.0'})\n",
    "        page = urlopen(rep, timeout=30).read()\n",
    "\n",
    "        path_file = path_dir + url.split('/')[-1] + 'l'\n",
    "        with open(path_file, 'wb') as f:\n",
    "            f.write(page)\n",
    "    except:\n",
    "        print(url + ': không tồn tại hoặc bị ẩn')\n",
    "        f_temp.write(url+'\\n')"
   ]
  }
 ],
 "metadata": {
  "language_info": {
   "name": "python"
  },
  "orig_nbformat": 4
 },
 "nbformat": 4,
 "nbformat_minor": 2
}
