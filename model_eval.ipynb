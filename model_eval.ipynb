{
 "cells": [
  {
   "cell_type": "code",
   "execution_count": 2,
   "metadata": {},
   "outputs": [],
   "source": [
    "import numpy as np\n",
    "import pandas as pd\n",
    "from sklearn.model_selection import train_test_split\n",
    "from sklearn.metrics import r2_score\n",
    "from sklearn.metrics import mean_absolute_percentage_error\n"
   ]
  },
  {
   "cell_type": "markdown",
   "metadata": {},
   "source": [
    "## **Have Month Feature**"
   ]
  },
  {
   "cell_type": "markdown",
   "metadata": {},
   "source": [
    "### **Load Data**"
   ]
  },
  {
   "cell_type": "code",
   "execution_count": 2,
   "metadata": {},
   "outputs": [],
   "source": [
    "data = pd.read_csv('pre_data\\HousePriceDatasetsCleaned.csv')"
   ]
  },
  {
   "cell_type": "code",
   "execution_count": 3,
   "metadata": {},
   "outputs": [],
   "source": [
    "y = np.array(data.price.values)"
   ]
  },
  {
   "cell_type": "code",
   "execution_count": 4,
   "metadata": {},
   "outputs": [
    {
     "data": {
      "text/plain": [
       "Index(['list_time', 'area', 'area_name', 'price', 'price_string', 'rooms',\n",
       "       'property_legal_document', 'property_road_condition',\n",
       "       'property_back_condition', 'size', 'ward', 'ward_name', 'toilets',\n",
       "       'floors', 'house_type', 'furnishing_sell', 'longitude', 'latitude',\n",
       "       'street_id', 'width', 'projectid', 'price_m2'],\n",
       "      dtype='object')"
      ]
     },
     "execution_count": 4,
     "metadata": {},
     "output_type": "execute_result"
    }
   ],
   "source": [
    "data.columns"
   ]
  },
  {
   "cell_type": "code",
   "execution_count": 5,
   "metadata": {},
   "outputs": [],
   "source": [
    "data['list_time'] = pd.to_datetime(data['list_time'], format='%d %B %Y')\n",
    "data['month'] = pd.DatetimeIndex(data['list_time']).month"
   ]
  },
  {
   "cell_type": "code",
   "execution_count": 6,
   "metadata": {},
   "outputs": [
    {
     "name": "stdout",
     "output_type": "stream",
     "text": [
      "(20427, 16)\n"
     ]
    }
   ],
   "source": [
    "data = data.drop(['price','price_string', 'price_m2','list_time', 'area_name', 'ward_name', 'street_id'], axis=1)\n",
    "print(data.shape)"
   ]
  },
  {
   "cell_type": "code",
   "execution_count": 7,
   "metadata": {},
   "outputs": [
    {
     "name": "stdout",
     "output_type": "stream",
     "text": [
      "<class 'pandas.core.frame.DataFrame'>\n",
      "RangeIndex: 20427 entries, 0 to 20426\n",
      "Data columns (total 16 columns):\n",
      " #   Column                   Non-Null Count  Dtype  \n",
      "---  ------                   --------------  -----  \n",
      " 0   area                     20427 non-null  int64  \n",
      " 1   rooms                    20427 non-null  float64\n",
      " 2   property_legal_document  20427 non-null  float64\n",
      " 3   property_road_condition  20427 non-null  float64\n",
      " 4   property_back_condition  20427 non-null  float64\n",
      " 5   size                     20427 non-null  float64\n",
      " 6   ward                     20427 non-null  int64  \n",
      " 7   toilets                  20427 non-null  float64\n",
      " 8   floors                   20427 non-null  float64\n",
      " 9   house_type               20427 non-null  float64\n",
      " 10  furnishing_sell          20427 non-null  float64\n",
      " 11  longitude                20427 non-null  float64\n",
      " 12  latitude                 20427 non-null  float64\n",
      " 13  width                    20427 non-null  float64\n",
      " 14  projectid                20427 non-null  float64\n",
      " 15  month                    20427 non-null  int64  \n",
      "dtypes: float64(13), int64(3)\n",
      "memory usage: 2.5 MB\n"
     ]
    }
   ],
   "source": [
    "data.info()"
   ]
  },
  {
   "cell_type": "code",
   "execution_count": 8,
   "metadata": {},
   "outputs": [],
   "source": [
    "x = np.array(data.values)"
   ]
  },
  {
   "cell_type": "code",
   "execution_count": 39,
   "metadata": {},
   "outputs": [],
   "source": [
    "x_train,x_test,y_train,y_test=train_test_split(x,y,test_size=0.3,random_state=0)"
   ]
  },
  {
   "cell_type": "markdown",
   "metadata": {},
   "source": [
    "### **Random Forest Regressor**"
   ]
  },
  {
   "cell_type": "code",
   "execution_count": 40,
   "metadata": {},
   "outputs": [
    {
     "data": {
      "text/plain": [
       "0.7808899768167221"
      ]
     },
     "execution_count": 40,
     "metadata": {},
     "output_type": "execute_result"
    }
   ],
   "source": [
    "from sklearn.ensemble import RandomForestRegressor\n",
    "\n",
    "rf_regressor = RandomForestRegressor(n_estimators=180, max_depth=170, random_state=0, n_jobs=-1)\n",
    "rf_regressor.fit(x_train,y_train)\n",
    "rf_regressor.score(x_test, y_test)"
   ]
  },
  {
   "cell_type": "code",
   "execution_count": 41,
   "metadata": {},
   "outputs": [
    {
     "name": "stdout",
     "output_type": "stream",
     "text": [
      "mean_absolute_percentage_error = 0.2551468111774229\n",
      "R2 score = 0.7808899768167221\n"
     ]
    }
   ],
   "source": [
    "rf_pred =rf_regressor.predict(x_test)\n",
    "\n",
    "print('mean_absolute_percentage_error = {}'.format(mean_absolute_percentage_error(y_test, rf_pred)))\n",
    "print('R2 score = {}'.format(r2_score(y_test, rf_pred)))"
   ]
  },
  {
   "cell_type": "code",
   "execution_count": 13,
   "metadata": {},
   "outputs": [
    {
     "data": {
      "image/png": "[encoded data removed]",
      "text/plain": [
       "<Figure size 720x720 with 1 Axes>"
      ]
     },
     "metadata": {
      "needs_background": "light"
     },
     "output_type": "display_data"
    }
   ],
   "source": [
    "import matplotlib.pyplot as plt\n",
    "import seaborn as sns\n",
    "\n",
    "fig = plt.figure(figsize = (10,10))\n",
    "plt.scatter(x=rf_pred, y=y_test)\n",
    "sns.lineplot(x=[0, 2e11], y=[0, 2e11], color='orange')\n",
    "plt.show()"
   ]
  },
  {
   "cell_type": "code",
   "execution_count": 11,
   "metadata": {},
   "outputs": [
    {
     "name": "stdout",
     "output_type": "stream",
     "text": [
      "Fitting 3 folds for each of 12 candidates, totalling 36 fits\n",
      "Best Score: 0.7766152553040989\n",
      "Best Hyperparameters: {'max_depth': 170, 'n_estimators': 180}\n"
     ]
    }
   ],
   "source": [
    "from sklearn.model_selection import GridSearchCV\n",
    "from sklearn.model_selection import RepeatedKFold\n",
    "\n",
    "cv = RepeatedKFold(n_splits=3, n_repeats=1, random_state=0)\n",
    "\n",
    "param_grid = {\n",
    "    'n_estimators': [160, 170, 180],\n",
    "    'max_depth' : [150, 170, 200, None]\n",
    "}\n",
    "\n",
    "rf = RandomForestRegressor()\n",
    "\n",
    "grid_search = GridSearchCV(estimator = rf, param_grid = param_grid, scoring='r2', cv = cv, n_jobs = -1, verbose = 2)\n",
    "\n",
    "result = grid_search.fit(data, y)\n",
    "print('Best Score: %s' % result.best_score_)\n",
    "print('Best Hyperparameters: %s' % result.best_params_)"
   ]
  },
  {
   "cell_type": "markdown",
   "metadata": {},
   "source": [
    "### **Ridge Regression**"
   ]
  },
  {
   "cell_type": "code",
   "execution_count": 55,
   "metadata": {},
   "outputs": [
    {
     "name": "stdout",
     "output_type": "stream",
     "text": [
      "mean_absolute_percentage_error = 0.44230792855075346\n",
      "R2 score = 0.6005568625461787\n"
     ]
    }
   ],
   "source": [
    "from sklearn.linear_model import Ridge\n",
    "\n",
    "Rid = Ridge(alpha=1, solver='sparse_cg')\n",
    "Rid.fit(x_train,y_train)\n",
    "print('mean_absolute_percentage_error = {}'.format(mean_absolute_percentage_error(y_test, Rid.predict(x_test))))\n",
    "print('R2 score = {}'.format(r2_score(y_test, Rid.predict(x_test))))"
   ]
  },
  {
   "cell_type": "code",
   "execution_count": 17,
   "metadata": {},
   "outputs": [],
   "source": [
    "param = {\n",
    "    'alpha':[1, 10, 100, 1000],\n",
    "    'fit_intercept':[True,False],\n",
    "    'normalize':[True,False],\n",
    "    'solver':['auto', 'svd', 'cholesky', 'lsqr', 'sparse_cg', 'sag', 'saga']\n",
    "       }"
   ]
  },
  {
   "cell_type": "code",
   "execution_count": 18,
   "metadata": {},
   "outputs": [
    {
     "name": "stdout",
     "output_type": "stream",
     "text": [
      "Best Score: 0.5713435196418611\n",
      "Best Hyperparameters: {'alpha': 100, 'fit_intercept': True, 'normalize': False, 'solver': 'sparse_cg'}\n"
     ]
    },
    {
     "name": "stderr",
     "output_type": "stream",
     "text": [
      "D:\\Users\\Anaconda3\\lib\\site-packages\\sklearn\\linear_model\\_base.py:148: FutureWarning: 'normalize' was deprecated in version 1.0 and will be removed in 1.2. Please leave the normalize parameter to its default value to silence this warning. The default behavior of this estimator is to not do any normalization. If normalization is needed please use sklearn.preprocessing.StandardScaler instead.\n",
      "  warnings.warn(\n"
     ]
    }
   ],
   "source": [
    "from sklearn.model_selection import GridSearchCV\n",
    "from sklearn.model_selection import RepeatedKFold\n",
    "\n",
    "cv = RepeatedKFold(n_splits=5, n_repeats=1, random_state=0)\n",
    "\n",
    "model = Ridge()\n",
    "\n",
    "# define search\n",
    "search = GridSearchCV(model, param, scoring='r2', n_jobs=-1, cv=cv)\n",
    "\n",
    "# execute search\n",
    "result = search.fit(data, y)\n",
    "\n",
    "# summarize result\n",
    "print('Best Score: %s' % result.best_score_)\n",
    "print('Best Hyperparameters: %s' % result.best_params_)"
   ]
  },
  {
   "cell_type": "markdown",
   "metadata": {},
   "source": [
    "### **Lasso Regression**"
   ]
  },
  {
   "cell_type": "code",
   "execution_count": 54,
   "metadata": {},
   "outputs": [
    {
     "name": "stdout",
     "output_type": "stream",
     "text": [
      "mean_absolute_percentage_error = 0.44610458410648723\n",
      "R2 score = 0.6034997481089508\n"
     ]
    }
   ],
   "source": [
    "from sklearn.linear_model import Lasso\n",
    "\n",
    "las = Lasso(alpha=1000)\n",
    "las.fit(x_train,y_train)\n",
    "print('mean_absolute_percentage_error = {}'.format(mean_absolute_percentage_error(y_test, las.predict(x_test))))\n",
    "print('R2 score = {}'.format(r2_score(y_test, las.predict(x_test))))"
   ]
  },
  {
   "cell_type": "markdown",
   "metadata": {},
   "source": [
    "### **Cross Validation**"
   ]
  },
  {
   "cell_type": "code",
   "execution_count": 24,
   "metadata": {},
   "outputs": [],
   "source": [
    "from sklearn.ensemble import RandomForestRegressor\n",
    "from sklearn.linear_model import Lasso\n",
    "from sklearn.linear_model import Ridge\n",
    "\n",
    "def RF_Regressor():\n",
    "    return RandomForestRegressor(n_estimators=180, max_depth=170, random_state=0, n_jobs=-1)\n",
    "\n",
    "def lasso():\n",
    "    return Lasso(alpha=1000)\n",
    "\n",
    "def ridge():\n",
    "    return Ridge(alpha=1, solver='sparse_cg')"
   ]
  },
  {
   "cell_type": "code",
   "execution_count": 27,
   "metadata": {},
   "outputs": [],
   "source": [
    "from sklearn.model_selection import KFold\n",
    "from sklearn.metrics import r2_score\n",
    "from sklearn.metrics import mean_absolute_percentage_error\n",
    "\n",
    "kf = KFold(n_splits=5, random_state=22, shuffle=True)\n",
    "\n",
    "def cross_validation(model):\n",
    "    R2 = []\n",
    "    MAPE = []\n",
    "\n",
    "    for train_index, test_index in kf.split(x):\n",
    "        X_train, X_test = x[train_index], x[test_index]\n",
    "        Y_train, Y_test = y[train_index], y[test_index]\n",
    "        model.fit(X_train,Y_train)\n",
    "        pred = model.predict(X_test)\n",
    "        R2.append(r2_score(Y_test, pred))\n",
    "        MAPE.append(mean_absolute_percentage_error(Y_test, pred))\n",
    "\n",
    "    return R2, MAPE\n"
   ]
  },
  {
   "cell_type": "code",
   "execution_count": 28,
   "metadata": {},
   "outputs": [
    {
     "name": "stdout",
     "output_type": "stream",
     "text": [
      "R2 score:  [0.7604494360275922, 0.7613605098388266, 0.7792259681266464, 0.7696247857146361, 0.804784112478871]\n",
      "MAPE:  [0.2537770311014525, 0.24289100708390332, 0.25019119781205, 0.2411086884777156, 0.24802871880666008]\n",
      "AVG_R2_score : 0.7750889624373144\n",
      "AVG_MAPE : 0.2471993286563563\n"
     ]
    }
   ],
   "source": [
    "#RandomForestRegresson\n",
    "\n",
    "R2, MAPE = cross_validation(model=RF_Regressor())\n",
    "print('R2 score: ', R2)\n",
    "print('MAPE: ', MAPE)\n",
    "print('AVG_R2_score : {}'.format(np.array(R2).mean()))\n",
    "print('AVG_MAPE : {}'.format(np.array(MAPE).mean()))"
   ]
  },
  {
   "cell_type": "code",
   "execution_count": 29,
   "metadata": {},
   "outputs": [
    {
     "name": "stdout",
     "output_type": "stream",
     "text": [
      "R2 score:  [0.5642998399370267, 0.5947592283910477, 0.5845276852758514, 0.5918193701000098, 0.6417386130867739]\n",
      "MAPE:  [0.43420223645068673, 0.43579267962880736, 0.4520561768107548, 0.4258533335343494, 0.43917262902861376]\n",
      "AVG_R2_score : 0.595428947358142\n",
      "AVG_MAPE : 0.4374154110906424\n"
     ]
    }
   ],
   "source": [
    "#Ridge\n",
    "\n",
    "R2, MAPE = cross_validation(model=ridge())\n",
    "print('R2 score: ', R2)\n",
    "print('MAPE: ', MAPE)\n",
    "print('AVG_R2_score : {}'.format(np.array(R2).mean()))\n",
    "print('AVG_MAPE : {}'.format(np.array(MAPE).mean()))\n"
   ]
  },
  {
   "cell_type": "code",
   "execution_count": 30,
   "metadata": {},
   "outputs": [
    {
     "name": "stdout",
     "output_type": "stream",
     "text": [
      "R2 score:  [0.5678914049661472, 0.5963232947829415, 0.58618044833574, 0.5941689965960728, 0.6441503607194734]\n",
      "MAPE:  [0.43896059045801816, 0.4410975811426571, 0.4549370079926045, 0.4294183217145986, 0.44368110105473]\n",
      "AVG_R2_score : 0.597742901080075\n",
      "AVG_MAPE : 0.44161892047252166\n"
     ]
    }
   ],
   "source": [
    "#Lasso\n",
    "\n",
    "R2, MAPE = cross_validation(model=lasso())\n",
    "print('R2 score: ', R2)\n",
    "print('MAPE: ', MAPE)\n",
    "print('AVG_R2_score : {}'.format(np.array(R2).mean()))\n",
    "print('AVG_MAPE : {}'.format(np.array(MAPE).mean()))"
   ]
  },
  {
   "cell_type": "markdown",
   "metadata": {},
   "source": [
    "## **No Month Feature**"
   ]
  },
  {
   "cell_type": "markdown",
   "metadata": {},
   "source": [
    "### **Load Data**"
   ]
  },
  {
   "cell_type": "code",
   "execution_count": 3,
   "metadata": {},
   "outputs": [],
   "source": [
    "data = pd.read_csv('pre_data\\HousePriceDatasetsCleaned.csv')"
   ]
  },
  {
   "cell_type": "code",
   "execution_count": 4,
   "metadata": {},
   "outputs": [],
   "source": [
    "y = np.array(data.price.values)"
   ]
  },
  {
   "cell_type": "code",
   "execution_count": 5,
   "metadata": {},
   "outputs": [
    {
     "data": {
      "text/plain": [
       "Index(['list_time', 'area', 'area_name', 'price', 'price_string', 'rooms',\n",
       "       'property_legal_document', 'property_road_condition',\n",
       "       'property_back_condition', 'size', 'ward', 'ward_name', 'toilets',\n",
       "       'floors', 'house_type', 'furnishing_sell', 'longitude', 'latitude',\n",
       "       'street_id', 'width', 'projectid', 'price_m2'],\n",
       "      dtype='object')"
      ]
     },
     "execution_count": 5,
     "metadata": {},
     "output_type": "execute_result"
    }
   ],
   "source": [
    "data.columns"
   ]
  },
  {
   "cell_type": "code",
   "execution_count": 5,
   "metadata": {},
   "outputs": [
    {
     "name": "stdout",
     "output_type": "stream",
     "text": [
      "(20427, 15)\n"
     ]
    }
   ],
   "source": [
    "data = data.drop(['price','price_string', 'price_m2','list_time', 'area_name', 'ward_name', 'street_id'], axis=1)\n",
    "print(data.shape)"
   ]
  },
  {
   "cell_type": "code",
   "execution_count": 7,
   "metadata": {},
   "outputs": [
    {
     "name": "stdout",
     "output_type": "stream",
     "text": [
      "<class 'pandas.core.frame.DataFrame'>\n",
      "RangeIndex: 20427 entries, 0 to 20426\n",
      "Data columns (total 15 columns):\n",
      " #   Column                   Non-Null Count  Dtype  \n",
      "---  ------                   --------------  -----  \n",
      " 0   area                     20427 non-null  int64  \n",
      " 1   rooms                    20427 non-null  float64\n",
      " 2   property_legal_document  20427 non-null  float64\n",
      " 3   property_road_condition  20427 non-null  float64\n",
      " 4   property_back_condition  20427 non-null  float64\n",
      " 5   size                     20427 non-null  float64\n",
      " 6   ward                     20427 non-null  int64  \n",
      " 7   toilets                  20427 non-null  float64\n",
      " 8   floors                   20427 non-null  float64\n",
      " 9   house_type               20427 non-null  float64\n",
      " 10  furnishing_sell          20427 non-null  float64\n",
      " 11  longitude                20427 non-null  float64\n",
      " 12  latitude                 20427 non-null  float64\n",
      " 13  width                    20427 non-null  float64\n",
      " 14  projectid                20427 non-null  float64\n",
      "dtypes: float64(13), int64(2)\n",
      "memory usage: 2.3 MB\n"
     ]
    }
   ],
   "source": [
    "data.info()"
   ]
  },
  {
   "cell_type": "code",
   "execution_count": 6,
   "metadata": {},
   "outputs": [],
   "source": [
    "x = np.array(data.values)"
   ]
  },
  {
   "cell_type": "code",
   "execution_count": 9,
   "metadata": {},
   "outputs": [],
   "source": [
    "x_train,x_test,y_train,y_test=train_test_split(x,y,test_size=0.3,random_state=0)"
   ]
  },
  {
   "cell_type": "markdown",
   "metadata": {},
   "source": [
    "### **Random Forest Regressor**"
   ]
  },
  {
   "cell_type": "code",
   "execution_count": 10,
   "metadata": {},
   "outputs": [
    {
     "data": {
      "text/plain": [
       "0.7783368761625618"
      ]
     },
     "execution_count": 10,
     "metadata": {},
     "output_type": "execute_result"
    }
   ],
   "source": [
    "from sklearn.ensemble import RandomForestRegressor\n",
    "\n",
    "rf_regressor = RandomForestRegressor(n_estimators=180, max_depth=170, random_state=0, n_jobs=-1)\n",
    "rf_regressor.fit(x_train,y_train)\n",
    "rf_regressor.score(x_test, y_test)"
   ]
  },
  {
   "cell_type": "code",
   "execution_count": 11,
   "metadata": {},
   "outputs": [
    {
     "name": "stdout",
     "output_type": "stream",
     "text": [
      "mean_absolute_percentage_error = 0.2551419688562476\n",
      "R2 score = 0.7783368761625618\n"
     ]
    }
   ],
   "source": [
    "rf_pred =rf_regressor.predict(x_test)\n",
    "\n",
    "print('mean_absolute_percentage_error = {}'.format(mean_absolute_percentage_error(y_test, rf_pred)))\n",
    "print('R2 score = {}'.format(r2_score(y_test, rf_pred)))"
   ]
  },
  {
   "cell_type": "code",
   "execution_count": 12,
   "metadata": {},
   "outputs": [
    {
     "data": {
      "image/png": "[encoded data removed]",
      "text/plain": [
       "<Figure size 720x720 with 1 Axes>"
      ]
     },
     "metadata": {
      "needs_background": "light"
     },
     "output_type": "display_data"
    }
   ],
   "source": [
    "import matplotlib.pyplot as plt\n",
    "import seaborn as sns\n",
    "\n",
    "fig = plt.figure(figsize = (10,10))\n",
    "plt.scatter(x=rf_pred, y=y_test)\n",
    "sns.lineplot(x=[0, 2e11], y=[0, 2e11], color='orange')\n",
    "plt.show()"
   ]
  },
  {
   "cell_type": "code",
   "execution_count": 13,
   "metadata": {},
   "outputs": [
    {
     "name": "stdout",
     "output_type": "stream",
     "text": [
      "Fitting 3 folds for each of 12 candidates, totalling 36 fits\n",
      "Best Score: 0.7783031923968213\n",
      "Best Hyperparameters: {'max_depth': None, 'n_estimators': 160}\n"
     ]
    }
   ],
   "source": [
    "from sklearn.model_selection import GridSearchCV\n",
    "from sklearn.model_selection import RepeatedKFold\n",
    "\n",
    "cv = RepeatedKFold(n_splits=3, n_repeats=1, random_state=0)\n",
    "\n",
    "param_grid = {\n",
    "    'n_estimators': [160, 170, 180],\n",
    "    'max_depth' : [150, 170, 200, None]\n",
    "}\n",
    "\n",
    "rf = RandomForestRegressor()\n",
    "\n",
    "grid_search = GridSearchCV(estimator = rf, param_grid = param_grid, scoring='r2', cv = cv, n_jobs = -1, verbose = 2)\n",
    "\n",
    "result = grid_search.fit(data, y)\n",
    "print('Best Score: %s' % result.best_score_)\n",
    "print('Best Hyperparameters: %s' % result.best_params_)"
   ]
  },
  {
   "cell_type": "markdown",
   "metadata": {},
   "source": [
    "### **Ridge Regression**"
   ]
  },
  {
   "cell_type": "code",
   "execution_count": 14,
   "metadata": {},
   "outputs": [
    {
     "name": "stdout",
     "output_type": "stream",
     "text": [
      "mean_absolute_percentage_error = 0.44691432543245746\n",
      "R2 score = 0.6150795263369\n"
     ]
    }
   ],
   "source": [
    "from sklearn.linear_model import Ridge\n",
    "\n",
    "Rid = Ridge(alpha=1, solver='sparse_cg')\n",
    "Rid.fit(x_train,y_train)\n",
    "print('mean_absolute_percentage_error = {}'.format(mean_absolute_percentage_error(y_test, Rid.predict(x_test))))\n",
    "print('R2 score = {}'.format(r2_score(y_test, Rid.predict(x_test))))"
   ]
  },
  {
   "cell_type": "code",
   "execution_count": 15,
   "metadata": {},
   "outputs": [],
   "source": [
    "param = {\n",
    "    'alpha':[1, 10, 100, 1000],\n",
    "    'fit_intercept':[True,False],\n",
    "    'normalize':[True,False],\n",
    "    'solver':['auto', 'svd', 'cholesky', 'lsqr', 'sparse_cg', 'sag', 'saga']\n",
    "       }"
   ]
  },
  {
   "cell_type": "code",
   "execution_count": 16,
   "metadata": {},
   "outputs": [
    {
     "name": "stdout",
     "output_type": "stream",
     "text": [
      "Best Score: 0.5989379204811411\n",
      "Best Hyperparameters: {'alpha': 1, 'fit_intercept': True, 'normalize': False, 'solver': 'auto'}\n"
     ]
    },
    {
     "name": "stderr",
     "output_type": "stream",
     "text": [
      "D:\\Users\\Anaconda3\\lib\\site-packages\\sklearn\\linear_model\\_base.py:148: FutureWarning: 'normalize' was deprecated in version 1.0 and will be removed in 1.2. Please leave the normalize parameter to its default value to silence this warning. The default behavior of this estimator is to not do any normalization. If normalization is needed please use sklearn.preprocessing.StandardScaler instead.\n",
      "  warnings.warn(\n"
     ]
    }
   ],
   "source": [
    "from sklearn.model_selection import GridSearchCV\n",
    "from sklearn.model_selection import RepeatedKFold\n",
    "\n",
    "cv = RepeatedKFold(n_splits=5, n_repeats=1, random_state=0)\n",
    "\n",
    "model = Ridge()\n",
    "\n",
    "# define search\n",
    "search = GridSearchCV(model, param, scoring='r2', n_jobs=-1, cv=cv)\n",
    "\n",
    "# execute search\n",
    "result = search.fit(data, y)\n",
    "\n",
    "# summarize result\n",
    "print('Best Score: %s' % result.best_score_)\n",
    "print('Best Hyperparameters: %s' % result.best_params_)"
   ]
  },
  {
   "cell_type": "markdown",
   "metadata": {},
   "source": [
    "### **Lasso Regression**"
   ]
  },
  {
   "cell_type": "code",
   "execution_count": 17,
   "metadata": {},
   "outputs": [
    {
     "name": "stdout",
     "output_type": "stream",
     "text": [
      "mean_absolute_percentage_error = 0.45193972244721353\n",
      "R2 score = 0.616971048262631\n"
     ]
    }
   ],
   "source": [
    "from sklearn.linear_model import Lasso\n",
    "\n",
    "las = Lasso(alpha=1000)\n",
    "las.fit(x_train,y_train)\n",
    "print('mean_absolute_percentage_error = {}'.format(mean_absolute_percentage_error(y_test, las.predict(x_test))))\n",
    "print('R2 score = {}'.format(r2_score(y_test, las.predict(x_test))))"
   ]
  },
  {
   "cell_type": "markdown",
   "metadata": {},
   "source": [
    "### **Cross Validation**"
   ]
  },
  {
   "cell_type": "code",
   "execution_count": 7,
   "metadata": {},
   "outputs": [],
   "source": [
    "from sklearn.ensemble import RandomForestRegressor\n",
    "from sklearn.linear_model import Lasso\n",
    "from sklearn.linear_model import Ridge\n",
    "\n",
    "def RF_Regressor():\n",
    "    return RandomForestRegressor(n_estimators=160, random_state=0, n_jobs=-1)\n",
    "\n",
    "def lasso():\n",
    "    return Lasso(alpha=1000)\n",
    "\n",
    "def ridge():\n",
    "    return Ridge(alpha=1, solver='auto')"
   ]
  },
  {
   "cell_type": "code",
   "execution_count": 9,
   "metadata": {},
   "outputs": [],
   "source": [
    "from sklearn.model_selection import KFold\n",
    "from sklearn.metrics import r2_score\n",
    "from sklearn.metrics import mean_absolute_percentage_error\n",
    "\n",
    "kf = KFold(n_splits=5, random_state=22, shuffle=True)\n",
    "\n",
    "def cross_validation(model):\n",
    "    R2 = []\n",
    "    MAPE = []\n",
    "\n",
    "    for train_index, test_index in kf.split(x):\n",
    "        X_train, X_test = x[train_index], x[test_index]\n",
    "        Y_train, Y_test = y[train_index], y[test_index]\n",
    "        model.fit(X_train,Y_train)\n",
    "        pred = model.predict(X_test)\n",
    "        R2.append(r2_score(Y_test, pred))\n",
    "        MAPE.append(mean_absolute_percentage_error(Y_test, pred))\n",
    "\n",
    "    return R2, MAPE\n"
   ]
  },
  {
   "cell_type": "code",
   "execution_count": 11,
   "metadata": {},
   "outputs": [],
   "source": [
    "R2 = []\n",
    "MAPE = []\n",
    "model=RF_Regressor()\n",
    "for train_index, test_index in kf.split(x):\n",
    "    X_train, X_test = x[train_index], x[test_index]\n",
    "    Y_train, Y_test = y[train_index], y[test_index]\n",
    "    model.fit(X_train,Y_train)\n",
    "    pred = model.predict(X_test)\n",
    "    R2.append(r2_score(Y_test, pred))\n",
    "    MAPE.append(mean_absolute_percentage_error(Y_test, pred))"
   ]
  },
  {
   "cell_type": "code",
   "execution_count": 25,
   "metadata": {},
   "outputs": [
    {
     "name": "stdout",
     "output_type": "stream",
     "text": [
      "R2 score:  [0.7587082142305503, 0.7591932779717376, 0.779653404888512, 0.7658870043289576, 0.8017522794775047]\n",
      "MAPE:  [0.2533340753864708, 0.2428194434815603, 0.24920728765660155, 0.23966710745808867, 0.24687238500676922]\n",
      "AVG_R2_score : 0.7730388361794525\n",
      "AVG_MAPE : 0.2463800597978981\n"
     ]
    }
   ],
   "source": [
    "#RandomForestRegresson\n",
    "\n",
    "R2, MAPE = cross_validation(model=RF_Regressor())\n",
    "print('R2 score: ', R2)\n",
    "print('MAPE: ', MAPE)\n",
    "print('AVG_R2_score : {}'.format(np.array(R2).mean()))\n",
    "print('AVG_MAPE : {}'.format(np.array(MAPE).mean()))"
   ]
  },
  {
   "cell_type": "code",
   "execution_count": 26,
   "metadata": {},
   "outputs": [
    {
     "name": "stdout",
     "output_type": "stream",
     "text": [
      "R2 score:  [0.5678113920773376, 0.5962453274623919, 0.5863353304772415, 0.5941294929894195, 0.6443686897889718]\n",
      "MAPE:  [0.43867567153452824, 0.44088184984762596, 0.45459966114995437, 0.42899395227777004, 0.4429707307448228]\n",
      "AVG_R2_score : 0.5977780465590725\n",
      "AVG_MAPE : 0.44122437311094026\n"
     ]
    }
   ],
   "source": [
    "#Ridge\n",
    "\n",
    "R2, MAPE = cross_validation(model=ridge())\n",
    "print('R2 score: ', R2)\n",
    "print('MAPE: ', MAPE)\n",
    "print('AVG_R2_score : {}'.format(np.array(R2).mean()))\n",
    "print('AVG_MAPE : {}'.format(np.array(MAPE).mean()))\n"
   ]
  },
  {
   "cell_type": "code",
   "execution_count": 27,
   "metadata": {},
   "outputs": [
    {
     "name": "stdout",
     "output_type": "stream",
     "text": [
      "R2 score:  [0.5678431510115569, 0.5962735404914064, 0.5863051159929725, 0.5941135456650548, 0.6443684468318707]\n",
      "MAPE:  [0.4390500321160165, 0.4413240689784947, 0.45510506949213836, 0.42959919497051874, 0.44344039682640285]\n",
      "AVG_R2_score : 0.5977807599985723\n",
      "AVG_MAPE : 0.44170375247671423\n"
     ]
    }
   ],
   "source": [
    "#Lasso\n",
    "\n",
    "R2, MAPE = cross_validation(model=lasso())\n",
    "print('R2 score: ', R2)\n",
    "print('MAPE: ', MAPE)\n",
    "print('AVG_R2_score : {}'.format(np.array(R2).mean()))\n",
    "print('AVG_MAPE : {}'.format(np.array(MAPE).mean()))"
   ]
  }
 ],
 "metadata": {
  "interpreter": {
   "hash": "b0fdbd91fa1014f333c33329988a7a04d464deba86e034a82d46dbd46f2ee1d2"
  },
  "kernelspec": {
   "display_name": "Python 3.8.8 64-bit ('base': conda)",
   "language": "python",
   "name": "python3"
  },
  "language_info": {
   "codemirror_mode": {
    "name": "ipython",
    "version": 3
   },
   "file_extension": ".py",
   "mimetype": "text/x-python",
   "name": "python",
   "nbconvert_exporter": "python",
   "pygments_lexer": "ipython3",
   "version": "3.8.8"
  },
  "orig_nbformat": 4
 },
 "nbformat": 4,
 "nbformat_minor": 2
}
